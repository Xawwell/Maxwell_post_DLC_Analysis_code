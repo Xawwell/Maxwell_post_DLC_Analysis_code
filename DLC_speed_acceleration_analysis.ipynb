{
 "cells": [
  {
   "cell_type": "code",
   "execution_count": 1,
   "id": "e34a8c0d-f1c6-47ed-88cb-39d754c8347e",
   "metadata": {
    "tags": []
   },
   "outputs": [],
   "source": [
    "# Importing the toolbox (takes several seconds)\n",
    "import pandas as pd\n",
    "from pathlib import Path\n",
    "import numpy as np\n",
    "import os\n",
    "import matplotlib.pyplot as plt\n",
    "import h5py"
   ]
  },
  {
   "cell_type": "code",
   "execution_count": 4,
   "id": "6fc759f1-4656-488a-9c9f-33faf85d5d68",
   "metadata": {
    "tags": []
   },
   "outputs": [],
   "source": [
    "h5_file_path = \"/Users/chenx/Desktop/Branco Lab/Shelter Choice Project/DLC_analysis/mouseid-1119976_shuffle1_400000.h5\"  \n",
    "#6559 second multi_shel starts\n",
    "dataframe = pd.read_hdf(h5_file_path)"
   ]
  },
  {
   "cell_type": "code",
   "execution_count": 6,
   "id": "1f386b37-70d1-415f-8183-fb58efa15cdc",
   "metadata": {
    "tags": []
   },
   "outputs": [
    {
     "data": {
      "text/plain": [
       "14968.15"
      ]
     },
     "execution_count": 6,
     "metadata": {},
     "output_type": "execute_result"
    }
   ],
   "source": [
    "598726/40"
   ]
  },
  {
   "cell_type": "code",
   "execution_count": 18,
   "id": "c3fd76a3-7641-497c-84a0-0c3f8959858d",
   "metadata": {
    "tags": []
   },
   "outputs": [],
   "source": [
    "import pandas as pd\n",
    "\n",
    "def calculate_velocity_acceleration(input_df):\n",
    "    # Copy the input DataFrame to avoid modifying it directly\n",
    "    df = input_df.copy()\n",
    "\n",
    "    # Calculate velocity and acceleration for x and y coordinates for each body part\n",
    "    for body_part in df.columns.get_level_values(1).unique():\n",
    "        for coord in [\"x\", \"y\"]:\n",
    "            # Calculate velocity\n",
    "            velocity_col_name = (\"velocity\", body_part, coord)\n",
    "            df[velocity_col_name] = df[(\"DLC_resnet50_Multi_Shelter_ChoiceOct28shuffle1_400000\", body_part, coord)].diff()\n",
    "\n",
    "            # Calculate acceleration\n",
    "            acceleration_col_name = (\"acceleration\", body_part, coord)\n",
    "            df[acceleration_col_name] = df[velocity_col_name].diff()\n",
    "\n",
    "    # Drop the \"likelihood\" columns\n",
    "    df = df.drop(columns=[(\"DLC_resnet50_Multi_Shelter_ChoiceOct28shuffle1_400000\", body_part, \"likelihood\")\n",
    "                          for body_part in df.columns.get_level_values(1).unique()])\n",
    "    \n",
    "    # Reorder the columns so that \"velocity\" and \"acceleration\" are grouped under each body part\n",
    "    cols = df.columns.to_list()\n",
    "    cols = sorted(cols, key=lambda x: (x[1], x[0]))\n",
    "    df = df[cols]\n",
    "\n",
    "    return df\n",
    "\n",
    "# Usage example:\n",
    "# Assuming 'your_data' is your original DataFrame\n",
    "new_df = calculate_velocity_acceleration(dataframe)\n",
    "# print(new_df)\n"
   ]
  },
  {
   "cell_type": "code",
   "execution_count": 24,
   "id": "e0c9686b-4728-49ba-b982-f7aae53c391b",
   "metadata": {
    "tags": []
   },
   "outputs": [
    {
     "data": {
      "text/plain": [
       "('DLC_resnet50_Multi_Shelter_ChoiceOct28shuffle1_400000', 'bodycenter', 'x')"
      ]
     },
     "execution_count": 24,
     "metadata": {},
     "output_type": "execute_result"
    }
   ],
   "source": [
    "new_df.columns[0]"
   ]
  },
  {
   "cell_type": "code",
   "execution_count": 25,
   "id": "58d02fef-5e19-4fe4-abed-38d4d1ad1b2a",
   "metadata": {
    "tags": []
   },
   "outputs": [
    {
     "data": {
      "text/plain": [
       "('DLC_resnet50_Multi_Shelter_ChoiceOct28shuffle1_400000', 'bodycenter', 'y')"
      ]
     },
     "execution_count": 25,
     "metadata": {},
     "output_type": "execute_result"
    }
   ],
   "source": [
    "new_df.columns[1]"
   ]
  },
  {
   "cell_type": "code",
   "execution_count": 26,
   "id": "19979285-b435-4cf1-9798-dd14391be7fc",
   "metadata": {
    "tags": []
   },
   "outputs": [
    {
     "data": {
      "text/plain": [
       "('acceleration', 'bodycenter', 'x')"
      ]
     },
     "execution_count": 26,
     "metadata": {},
     "output_type": "execute_result"
    }
   ],
   "source": [
    "new_df.columns[2]"
   ]
  },
  {
   "cell_type": "code",
   "execution_count": 27,
   "id": "6d814649-697c-427e-b6aa-05687887a624",
   "metadata": {
    "tags": []
   },
   "outputs": [
    {
     "data": {
      "text/plain": [
       "('acceleration', 'bodycenter', 'y')"
      ]
     },
     "execution_count": 27,
     "metadata": {},
     "output_type": "execute_result"
    }
   ],
   "source": [
    "new_df.columns[3]"
   ]
  },
  {
   "cell_type": "code",
   "execution_count": null,
   "id": "0fd92c5f-4026-40a2-be78-e4931101e661",
   "metadata": {},
   "outputs": [],
   "source": []
  }
 ],
 "metadata": {
  "kernelspec": {
   "display_name": "Python 3 (ipykernel)",
   "language": "python",
   "name": "python3"
  },
  "language_info": {
   "codemirror_mode": {
    "name": "ipython",
    "version": 3
   },
   "file_extension": ".py",
   "mimetype": "text/x-python",
   "name": "python",
   "nbconvert_exporter": "python",
   "pygments_lexer": "ipython3",
   "version": "3.11.5"
  }
 },
 "nbformat": 4,
 "nbformat_minor": 5
}
